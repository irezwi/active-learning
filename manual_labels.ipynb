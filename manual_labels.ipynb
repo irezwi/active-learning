{
 "cells": [
  {
   "cell_type": "code",
   "execution_count": 1,
   "metadata": {
    "pycharm": {
     "name": "#%%\n"
    }
   },
   "outputs": [],
   "source": [
    "from pathlib import Path\n",
    "\n",
    "import numpy as np\n",
    "import pandas as pd\n",
    "\n",
    "import pprint\n",
    "from modAL.models import ActiveLearner\n",
    "from modAL.uncertainty import uncertainty_sampling\n",
    "\n",
    "from sklearn.model_selection import train_test_split\n",
    "from sklearn.ensemble import RandomForestClassifier\n",
    "from sklearn.feature_extraction.text import CountVectorizer\n",
    "from sklearn.utils import shuffle\n",
    "from sklearn.metrics import accuracy_score\n",
    "\n",
    "from IPython import display\n",
    "from matplotlib import pyplot as plt\n",
    "\n",
    "%matplotlib inline\n",
    "pd.set_option('display.max_colwidth', None)"
   ]
  },
  {
   "cell_type": "code",
   "execution_count": 2,
   "metadata": {},
   "outputs": [],
   "source": [
    "# Downloaded from https://www.kaggle.com/datasets/kazanova/sentiment140\n",
    "\n",
    "df = pd.read_csv(\n",
    "    'data/training.1600000.processed.noemoticon.csv',\n",
    "    names=[\"sentiment\", \"id\", \"date\", \"flag\", \"user\", \"text\"],\n",
    "    encoding=\"ISO-8859-1\",\n",
    ")"
   ]
  },
  {
   "cell_type": "code",
   "execution_count": 3,
   "metadata": {
    "pycharm": {
     "name": "#%%\n"
    }
   },
   "outputs": [],
   "source": [
    "# Redefine classes from [0, 4] to [0, 1]\n",
    "df['sentiment'].mask(df['sentiment'] == 4, 1, inplace=True)\n",
    "\n",
    "# Drop unused columns\n",
    "df = df[['sentiment', 'text']]\n",
    "\n",
    "# Shuffle because dataset is sorted\n",
    "df = shuffle(df)\n",
    "\n",
    "df = df.head(10_000)\n",
    "df.reset_index(drop=True, inplace=True)"
   ]
  },
  {
   "cell_type": "code",
   "execution_count": 4,
   "metadata": {
    "pycharm": {
     "name": "#%%\n"
    }
   },
   "outputs": [],
   "source": [
    "vectorizer = CountVectorizer(\n",
    "    input='content',\n",
    "    lowercase=True,\n",
    "    analyzer='word',\n",
    "    ngram_range=(1, 2),\n",
    "    strip_accents='ascii',\n",
    ")\n",
    "X = vectorizer.fit_transform(df['text']).toarray()\n",
    "y = df['sentiment'].to_numpy()\n",
    "\n",
    "X_train, X_test, y_train, y_test = train_test_split(X, y)"
   ]
  },
  {
   "cell_type": "code",
   "execution_count": 5,
   "metadata": {},
   "outputs": [],
   "source": [
    "learner = ActiveLearner(\n",
    "    estimator=RandomForestClassifier(),\n",
    "    query_strategy=uncertainty_sampling,\n",
    ")"
   ]
  },
  {
   "cell_type": "code",
   "execution_count": 6,
   "metadata": {
    "scrolled": false
   },
   "outputs": [],
   "source": [
    "def show_acc_plot(accuracies_list):\n",
    "    with plt.style.context('seaborn-white'):\n",
    "        plt.figure(figsize=(10, 3))\n",
    "        plt.plot(range(len(accuracies_list)), accuracies_list)\n",
    "        plt.scatter(range(len(accuracies_list)), accuracies_list)\n",
    "        display.display(plt.gcf())\n",
    "        plt.close('all')"
   ]
  },
  {
   "cell_type": "code",
   "execution_count": 7,
   "metadata": {},
   "outputs": [],
   "source": [
    "accuracies = []"
   ]
  },
  {
   "cell_type": "code",
   "execution_count": 8,
   "metadata": {
    "scrolled": false
   },
   "outputs": [
    {
     "name": "stdout",
     "output_type": "stream",
     "text": [
      "Accuracy: 0.5196\n"
     ]
    },
    {
     "data": {
      "image/png": "[encoded data removed]",
      "text/plain": [
       "<Figure size 720x216 with 1 Axes>"
      ]
     },
     "metadata": {},
     "output_type": "display_data"
    },
    {
     "name": "stdout",
     "output_type": "stream",
     "text": [
      "Yet unlabeled: (7451, 91473)\n"
     ]
    },
    {
     "data": {
      "text/plain": [
       "2610    At this bombass mexican food resty but I can't eat nathen from here \n",
       "Name: text, dtype: object"
      ]
     },
     "metadata": {},
     "output_type": "display_data"
    },
    {
     "name": "stdout",
     "output_type": "stream",
     "text": [
      "0\n"
     ]
    }
   ],
   "source": [
    "label_n = 50\n",
    "\n",
    "for _ in range(label_n):\n",
    "    display.clear_output(wait=True)\n",
    "    if _ > 0:\n",
    "        predicted = learner.predict(X_test)\n",
    "        accuracy = accuracy_score(predicted, y_test)\n",
    "        accuracies.append(accuracy)\n",
    "        print(f\"Accuracy: {accuracy}\")\n",
    "        show_acc_plot(accuracies)\n",
    "    print(f'Yet unlabeled: {X_train.shape}')\n",
    "    \n",
    "    query_idx, query_inst = learner.query(\n",
    "        X_train,\n",
    "        random_tie_break=True,\n",
    "        n_instances=1,\n",
    "    )\n",
    "\n",
    "    display.display(df['text'][query_idx])\n",
    "\n",
    "    # Manually assign class\n",
    "    assigned_class = np.array([int(input())], dtype=int)\n",
    "\n",
    "    # Teach with manually assigned class\n",
    "    learner.teach(query_inst, assigned_class)\n",
    "\n",
    "    # Remove labeled\n",
    "    X_train = np.delete(X_train, query_idx, axis=0)\n",
    "    y_train = np.delete(y_train, query_idx, axis=0)"
   ]
  },
  {
   "cell_type": "code",
   "execution_count": 10,
   "metadata": {},
   "outputs": [
    {
     "data": {
      "text/plain": [
       "0.5204"
      ]
     },
     "execution_count": 10,
     "metadata": {},
     "output_type": "execute_result"
    }
   ],
   "source": [
    "learner.score(X_test, y_test)"
   ]
  }
 ],
 "metadata": {
  "kernelspec": {
   "display_name": "Python 3 (ipykernel)",
   "language": "python",
   "name": "python3"
  },
  "language_info": {
   "codemirror_mode": {
    "name": "ipython",
    "version": 3
   },
   "file_extension": ".py",
   "mimetype": "text/x-python",
   "name": "python",
   "nbconvert_exporter": "python",
   "pygments_lexer": "ipython3",
   "version": "3.9.7"
  }
 },
 "nbformat": 4,
 "nbformat_minor": 1
}