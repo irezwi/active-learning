{
 "cells": [
  {
   "cell_type": "code",
   "execution_count": 1,
   "metadata": {
    "pycharm": {
     "name": "#%%\n"
    }
   },
   "outputs": [],
   "source": [
    "from pathlib import Path\n",
    "\n",
    "import numpy as np\n",
    "import pandas as pd\n",
    "\n",
    "import pprint\n",
    "from modAL.models import ActiveLearner\n",
    "from modAL.uncertainty import uncertainty_sampling\n",
    "\n",
    "from sklearn.model_selection import train_test_split\n",
    "from sklearn.ensemble import RandomForestClassifier\n",
    "from sklearn.feature_extraction.text import CountVectorizer\n",
    "from sklearn.utils import shuffle\n",
    "from sklearn.metrics import accuracy_score\n",
    "\n",
    "from IPython import display\n",
    "from matplotlib import pyplot as plt\n",
    "\n",
    "%matplotlib inline\n",
    "pd.set_option('display.max_colwidth', None)"
   ]
  },
  {
   "cell_type": "code",
   "execution_count": 2,
   "metadata": {},
   "outputs": [],
   "source": [
    "df = pd.read_csv(\n",
    "    'data/tweets.csv',\n",
    "    encoding=\"utf-8\",\n",
    ")"
   ]
  },
  {
   "cell_type": "code",
   "execution_count": 3,
   "metadata": {
    "pycharm": {
     "name": "#%%\n"
    }
   },
   "outputs": [
    {
     "data": {
      "text/html": [
       "<div>\n",
       "<style scoped>\n",
       "    .dataframe tbody tr th:only-of-type {\n",
       "        vertical-align: middle;\n",
       "    }\n",
       "\n",
       "    .dataframe tbody tr th {\n",
       "        vertical-align: top;\n",
       "    }\n",
       "\n",
       "    .dataframe thead th {\n",
       "        text-align: right;\n",
       "    }\n",
       "</style>\n",
       "<table border=\"1\" class=\"dataframe\">\n",
       "  <thead>\n",
       "    <tr style=\"text-align: right;\">\n",
       "      <th></th>\n",
       "      <th>text</th>\n",
       "      <th>sentiment</th>\n",
       "    </tr>\n",
       "  </thead>\n",
       "  <tbody>\n",
       "    <tr>\n",
       "      <th>0</th>\n",
       "      <td>@angel_shark77 @Shibtoken 🎗️UPCOMING LAUNCH SOON🎗️💥 @TeacherDoge THE NEW BSC 100X GEMS!🔥 UTILITY:🏅TEACHER DOGE SWAP🎖️TEACHER DOGE SNIPER BOT⭐ TG Global 🌐 : https://t.co/3h3DEmmbFo#Binance #BNB #ETH #BITCOIN #DOGE #MEMETECH #BABYDOGE #SHIBA #TEACHERDOGE</td>\n",
       "      <td>-1</td>\n",
       "    </tr>\n",
       "    <tr>\n",
       "      <th>1</th>\n",
       "      <td>@Zetlydotio #Bitcoin  could be on its way to $58K in the coming weeks as it breaks resistance levels from the symmetrical triangle and support range of $45.5k.Y’all follow @kimcaden9, she is an underrrated Bitcoiner, her tweets &amp;amp; tips have been helpful so far.</td>\n",
       "      <td>-1</td>\n",
       "    </tr>\n",
       "    <tr>\n",
       "      <th>2</th>\n",
       "      <td>@PeteSessions ALARM! 🚨🚨 There is one share that will change your life forever! AND NASDAQ Listing is soon! BNXA is the paypal of #crypto and #bitcoin #btc #eth #ethereum #doge https://t.co/IqVlClE52h</td>\n",
       "      <td>-1</td>\n",
       "    </tr>\n",
       "    <tr>\n",
       "      <th>3</th>\n",
       "      <td>Finally, some action. #BTC RR: 5.7#BItcoin #cryptotrading https://t.co/JCgKZKhvxP</td>\n",
       "      <td>-1</td>\n",
       "    </tr>\n",
       "    <tr>\n",
       "      <th>4</th>\n",
       "      <td>@cryptolissimo $CYLUM will be available for sale on the Cylum DAPPS &amp;amp; Binance Smart Chain Network. @Cylumfinancehttps://t.co/5d96L3IwuG#Cylumfinance#BitcoinButton #bitcoin #BSCGems #binance #NFTs #Airdrops #mining #cryptocurrency #cryptocurrencies #BNBChain</td>\n",
       "      <td>-1</td>\n",
       "    </tr>\n",
       "    <tr>\n",
       "      <th>...</th>\n",
       "      <td>...</td>\n",
       "      <td>...</td>\n",
       "    </tr>\n",
       "    <tr>\n",
       "      <th>9994</th>\n",
       "      <td>YoBit Farming: Earn up to 427% APY: https://t.co/E2iUAWe5kr #bitcoin #etherum</td>\n",
       "      <td>-1</td>\n",
       "    </tr>\n",
       "    <tr>\n",
       "      <th>9995</th>\n",
       "      <td>13393) Current #Bitcoin Price is $47131 #BTC #CryptoIndicators Daily:RSI: 68.2MA(20): 42874MA(50): 41443MA(200): 48295Bollinger B. lower/upper: 36926/48821#Ethereum Price is $3407 #ETHRSI: 72.6MA(20): 2985MA(50): 2856MA(200): 3488BB: 2424/3546#VAIOT Price: $0.062</td>\n",
       "      <td>-1</td>\n",
       "    </tr>\n",
       "    <tr>\n",
       "      <th>9996</th>\n",
       "      <td>@WatcherGuru $CYLUM will be available for sale on the Cylum DAPPS &amp;amp; Binance Smart Chain Network. @Cylumfinancehttps://t.co/TXVWFhFXQh#Cylumfinance#BitcoinButton #bitcoin #BSCGems #binance #NFTs #Airdrops #mining #cryptocurrency #cryptocurrencies #BNBChain</td>\n",
       "      <td>-1</td>\n",
       "    </tr>\n",
       "    <tr>\n",
       "      <th>9997</th>\n",
       "      <td>The only one who can save #Ukraine is#Russia #Kiev #Kyiv #Bitcoin</td>\n",
       "      <td>-1</td>\n",
       "    </tr>\n",
       "    <tr>\n",
       "      <th>9998</th>\n",
       "      <td>@MEXC_Global @ContinuumFi $SKUYSEKUYA THE 1ST MULTIVERSE META-FI PROJECT IN CRYPTO SPACE   🚀🚀🚀🚀🚀MultiverseMeta-fiWEB 3.0RWANFT  P2E Ecosystem✅ Company-backed✅ 5% $SKUY Rewards @sekuyaofficial#SKUY #Sekuya #Bitcoin #Binance #BSC #Metaverse #NFT https://t.co/J9vP4EdMVW</td>\n",
       "      <td>-1</td>\n",
       "    </tr>\n",
       "  </tbody>\n",
       "</table>\n",
       "<p>9999 rows × 2 columns</p>\n",
       "</div>"
      ],
      "text/plain": [
       "                                                                                                                                                                                                                                                                             text  \\\n",
       "0                    @angel_shark77 @Shibtoken 🎗️UPCOMING LAUNCH SOON🎗️💥 @TeacherDoge THE NEW BSC 100X GEMS!🔥 UTILITY:🏅TEACHER DOGE SWAP🎖️TEACHER DOGE SNIPER BOT⭐ TG Global 🌐 : https://t.co/3h3DEmmbFo#Binance #BNB #ETH #BITCOIN #DOGE #MEMETECH #BABYDOGE #SHIBA #TEACHERDOGE   \n",
       "1        @Zetlydotio #Bitcoin  could be on its way to $58K in the coming weeks as it breaks resistance levels from the symmetrical triangle and support range of $45.5k.Y’all follow @kimcaden9, she is an underrrated Bitcoiner, her tweets &amp; tips have been helpful so far.   \n",
       "2                                                                         @PeteSessions ALARM! 🚨🚨 There is one share that will change your life forever! AND NASDAQ Listing is soon! BNXA is the paypal of #crypto and #bitcoin #btc #eth #ethereum #doge https://t.co/IqVlClE52h   \n",
       "3                                                                                                                                                                                               Finally, some action. #BTC RR: 5.7#BItcoin #cryptotrading https://t.co/JCgKZKhvxP   \n",
       "4           @cryptolissimo $CYLUM will be available for sale on the Cylum DAPPS &amp; Binance Smart Chain Network. @Cylumfinancehttps://t.co/5d96L3IwuG#Cylumfinance#BitcoinButton #bitcoin #BSCGems #binance #NFTs #Airdrops #mining #cryptocurrency #cryptocurrencies #BNBChain   \n",
       "...                                                                                                                                                                                                                                                                           ...   \n",
       "9994                                                                                                                                                                                                YoBit Farming: Earn up to 427% APY: https://t.co/E2iUAWe5kr #bitcoin #etherum   \n",
       "9995      13393) Current #Bitcoin Price is $47131 #BTC #CryptoIndicators Daily:RSI: 68.2MA(20): 42874MA(50): 41443MA(200): 48295Bollinger B. lower/upper: 36926/48821#Ethereum Price is $3407 #ETHRSI: 72.6MA(20): 2985MA(50): 2856MA(200): 3488BB: 2424/3546#VAIOT Price: $0.062   \n",
       "9996          @WatcherGuru $CYLUM will be available for sale on the Cylum DAPPS &amp; Binance Smart Chain Network. @Cylumfinancehttps://t.co/TXVWFhFXQh#Cylumfinance#BitcoinButton #bitcoin #BSCGems #binance #NFTs #Airdrops #mining #cryptocurrency #cryptocurrencies #BNBChain   \n",
       "9997                                                                                                                                                                                                            The only one who can save #Ukraine is#Russia #Kiev #Kyiv #Bitcoin   \n",
       "9998  @MEXC_Global @ContinuumFi $SKUYSEKUYA THE 1ST MULTIVERSE META-FI PROJECT IN CRYPTO SPACE   🚀🚀🚀🚀🚀MultiverseMeta-fiWEB 3.0RWANFT  P2E Ecosystem✅ Company-backed✅ 5% $SKUY Rewards @sekuyaofficial#SKUY #Sekuya #Bitcoin #Binance #BSC #Metaverse #NFT https://t.co/J9vP4EdMVW   \n",
       "\n",
       "      sentiment  \n",
       "0            -1  \n",
       "1            -1  \n",
       "2            -1  \n",
       "3            -1  \n",
       "4            -1  \n",
       "...         ...  \n",
       "9994         -1  \n",
       "9995         -1  \n",
       "9996         -1  \n",
       "9997         -1  \n",
       "9998         -1  \n",
       "\n",
       "[9999 rows x 2 columns]"
      ]
     },
     "execution_count": 3,
     "metadata": {},
     "output_type": "execute_result"
    }
   ],
   "source": [
    "df['sentiment'] = -1\n",
    "df = df[['text', 'sentiment']]\n",
    "df"
   ]
  },
  {
   "cell_type": "code",
   "execution_count": 4,
   "metadata": {
    "pycharm": {
     "name": "#%%\n"
    }
   },
   "outputs": [],
   "source": [
    "vectorizer = CountVectorizer(\n",
    "    input='content',\n",
    "    lowercase=True,\n",
    "    analyzer='word',\n",
    "    ngram_range=(1, 2),\n",
    "    strip_accents='ascii',\n",
    ")\n",
    "X = vectorizer.fit_transform(df['text']).toarray()"
   ]
  },
  {
   "cell_type": "code",
   "execution_count": 5,
   "metadata": {},
   "outputs": [
    {
     "data": {
      "text/plain": [
       "array([[0, 0, 0, ..., 0, 0, 0],\n",
       "       [0, 0, 0, ..., 0, 0, 0],\n",
       "       [0, 0, 0, ..., 0, 0, 0],\n",
       "       ...,\n",
       "       [0, 0, 0, ..., 0, 0, 0],\n",
       "       [0, 0, 0, ..., 0, 0, 0],\n",
       "       [0, 0, 0, ..., 0, 0, 0]], dtype=int64)"
      ]
     },
     "execution_count": 5,
     "metadata": {},
     "output_type": "execute_result"
    }
   ],
   "source": [
    "X"
   ]
  },
  {
   "cell_type": "code",
   "execution_count": 6,
   "metadata": {},
   "outputs": [],
   "source": [
    "learner = ActiveLearner(\n",
    "    estimator=RandomForestClassifier(),\n",
    "    query_strategy=uncertainty_sampling,\n",
    ")"
   ]
  },
  {
   "cell_type": "code",
   "execution_count": 7,
   "metadata": {
    "scrolled": false
   },
   "outputs": [],
   "source": [
    "def show_acc_plot(accuracies_list):\n",
    "    with plt.style.context('seaborn-white'):\n",
    "        plt.figure(figsize=(10, 3))\n",
    "        plt.plot(range(len(accuracies_list)), accuracies_list)\n",
    "        plt.scatter(range(len(accuracies_list)), accuracies_list)\n",
    "        display.display(plt.gcf())\n",
    "        plt.close('all')"
   ]
  },
  {
   "cell_type": "code",
   "execution_count": 8,
   "metadata": {},
   "outputs": [],
   "source": [
    "accuracies = []"
   ]
  },
  {
   "cell_type": "code",
   "execution_count": null,
   "metadata": {},
   "outputs": [
    {
     "name": "stdout",
     "output_type": "stream",
     "text": [
      "Yet unlabeled: (9983, 81821)\n"
     ]
    },
    {
     "data": {
      "text/plain": [
       "1730    Farmerfun found #bitcoin in a User vault at this location! Join me playing #coinhuntworld, It's awesome! https://t.co/evBYMvYxKm #cryptocurrency #14810 https://t.co/gV18CHw1mf\n",
       "Name: text, dtype: object"
      ]
     },
     "metadata": {},
     "output_type": "display_data"
    }
   ],
   "source": [
    "label_n = 50\n",
    "\n",
    "for _ in range(label_n):\n",
    "    display.clear_output(wait=True)\n",
    "\n",
    "    print(f'Yet unlabeled: {X.shape}')\n",
    "    \n",
    "    query_idx, query_inst = learner.query(\n",
    "        X,\n",
    "        random_tie_break=True,\n",
    "        n_instances=1,\n",
    "    )\n",
    "\n",
    "    display.display(df['text'][query_idx])\n",
    "    \n",
    "    try:\n",
    "        user_input = int(input())\n",
    "    except:\n",
    "        continue\n",
    "\n",
    "    # Teach with manually assigned class\n",
    "    learner.teach(np.array(query_inst), [user_input])\n",
    "    df.loc[query_idx, 'sentiment'] = user_input\n",
    "\n",
    "    # Remove labeled\n",
    "    X = np.delete(X, query_idx, axis=0)"
   ]
  }
 ],
 "metadata": {
  "kernelspec": {
   "display_name": "Python 3 (ipykernel)",
   "language": "python",
   "name": "python3"
  },
  "language_info": {
   "codemirror_mode": {
    "name": "ipython",
    "version": 3
   },
   "file_extension": ".py",
   "mimetype": "text/x-python",
   "name": "python",
   "nbconvert_exporter": "python",
   "pygments_lexer": "ipython3",
   "version": "3.9.7"
  }
 },
 "nbformat": 4,
 "nbformat_minor": 1
}