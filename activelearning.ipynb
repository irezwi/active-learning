{
 "cells": [
  {
   "cell_type": "code",
   "execution_count": 25,
   "outputs": [],
   "source": [
    "from sklearn.datasets import make_classification\n",
    "\n",
    "X, y = make_classification(\n",
    "    shuffle=True,\n",
    "    n_repeated=0,\n",
    "    n_features=2,\n",
    "    n_redundant=0,\n",
    "    n_informative=2,\n",
    "    n_samples=10000,\n",
    "    random_state=0xD,\n",
    ")"
   ],
   "metadata": {
    "collapsed": false,
    "pycharm": {
     "name": "#%%\n"
    }
   }
  },
  {
   "cell_type": "code",
   "execution_count": 26,
   "outputs": [],
   "source": [
    "import numpy as np\n",
    "\n",
    "labeled_samples_count = 2000\n",
    "unlabeled_indices = np.arange(len(X))[labeled_samples_count:]\n",
    "\n",
    "# Copy labels vector and remove some labels to simulate their absence\n",
    "y_train = np.copy(y)\n",
    "y_train[unlabeled_indices] = -1  # Remove class, -1 means unlabeled"
   ],
   "metadata": {
    "collapsed": false,
    "pycharm": {
     "name": "#%%\n"
    }
   }
  },
  {
   "cell_type": "code",
   "execution_count": 27,
   "outputs": [
    {
     "data": {
      "text/plain": "LabelSpreading(gamma=1, max_iter=20)"
     },
     "execution_count": 27,
     "metadata": {},
     "output_type": "execute_result"
    }
   ],
   "source": [
    "from sklearn.semi_supervised import LabelSpreading\n",
    "\n",
    "model = LabelSpreading(gamma=1, max_iter=20)\n",
    "model.fit(X, y_train)"
   ],
   "metadata": {
    "collapsed": false,
    "pycharm": {
     "name": "#%%\n"
    }
   }
  },
  {
   "cell_type": "code",
   "execution_count": 28,
   "outputs": [
    {
     "name": "stdout",
     "output_type": "stream",
     "text": [
      "              precision    recall  f1-score   support\n",
      "\n",
      "           0       0.84      0.85      0.85      3982\n",
      "           1       0.85      0.84      0.84      4018\n",
      "\n",
      "    accuracy                           0.84      8000\n",
      "   macro avg       0.84      0.84      0.84      8000\n",
      "weighted avg       0.84      0.84      0.84      8000\n",
      "\n"
     ]
    },
    {
     "data": {
      "text/plain": "<Figure size 432x288 with 2 Axes>",
      "image/png": "[encoded data removed]"
     },
     "metadata": {
      "needs_background": "light"
     },
     "output_type": "display_data"
    }
   ],
   "source": [
    "from sklearn.metrics import ConfusionMatrixDisplay, classification_report\n",
    "\n",
    "predicted_labels = model.transduction_[unlabeled_indices]\n",
    "true_labels = y[unlabeled_indices]\n",
    "\n",
    "ConfusionMatrixDisplay.from_predictions(\n",
    "    y_true=true_labels,\n",
    "    y_pred=predicted_labels,\n",
    "    cmap='binary',\n",
    ")\n",
    "\n",
    "print(classification_report(y_true=true_labels, y_pred=predicted_labels))"
   ],
   "metadata": {
    "collapsed": false,
    "pycharm": {
     "name": "#%%\n"
    }
   }
  },
  {
   "cell_type": "markdown",
   "source": [],
   "metadata": {
    "collapsed": false,
    "pycharm": {
     "name": "#%% md\n"
    }
   }
  }
 ],
 "metadata": {
  "kernelspec": {
   "display_name": "Python 3",
   "language": "python",
   "name": "python3"
  },
  "language_info": {
   "codemirror_mode": {
    "name": "ipython",
    "version": 2
   },
   "file_extension": ".py",
   "mimetype": "text/x-python",
   "name": "python",
   "nbconvert_exporter": "python",
   "pygments_lexer": "ipython2",
   "version": "2.7.6"
  }
 },
 "nbformat": 4,
 "nbformat_minor": 0
}